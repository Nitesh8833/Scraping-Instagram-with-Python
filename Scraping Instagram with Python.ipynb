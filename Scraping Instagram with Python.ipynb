{
 "cells": [
  {
   "cell_type": "code",
   "execution_count": 1,
   "id": "f541a9c8",
   "metadata": {},
   "outputs": [
    {
     "name": "stdout",
     "output_type": "stream",
     "text": [
      "Collecting instaloader\n",
      "  Downloading instaloader-4.8.4.tar.gz (54 kB)\n",
      "Requirement already satisfied: requests>=2.4 in c:\\users\\user\\anaconda3\\lib\\site-packages (from instaloader) (2.25.1)\n",
      "Requirement already satisfied: idna<3,>=2.5 in c:\\users\\user\\anaconda3\\lib\\site-packages (from requests>=2.4->instaloader) (2.10)\n",
      "Requirement already satisfied: urllib3<1.27,>=1.21.1 in c:\\users\\user\\anaconda3\\lib\\site-packages (from requests>=2.4->instaloader) (1.26.4)\n",
      "Requirement already satisfied: chardet<5,>=3.0.2 in c:\\users\\user\\anaconda3\\lib\\site-packages (from requests>=2.4->instaloader) (4.0.0)\n",
      "Requirement already satisfied: certifi>=2017.4.17 in c:\\users\\user\\anaconda3\\lib\\site-packages (from requests>=2.4->instaloader) (2020.12.5)\n",
      "Building wheels for collected packages: instaloader\n",
      "  Building wheel for instaloader (setup.py): started\n",
      "  Building wheel for instaloader (setup.py): finished with status 'done'\n",
      "  Created wheel for instaloader: filename=instaloader-4.8.4-py3-none-any.whl size=58782 sha256=19bd0dfd194964a5ce3b1002d51852cc3aca6a0dc9d9aae3aca4fd923702b13c\n",
      "  Stored in directory: c:\\users\\user\\appdata\\local\\pip\\cache\\wheels\\2a\\67\\ff\\4a3f8f2103b4129278b4c106a59f80dd990f4e4ac5801e86df\n",
      "Successfully built instaloader\n",
      "Installing collected packages: instaloader\n",
      "Successfully installed instaloader-4.8.4\n",
      "Note: you may need to restart the kernel to use updated packages.\n"
     ]
    }
   ],
   "source": [
    "pip install instaloader"
   ]
  },
  {
   "cell_type": "code",
   "execution_count": 3,
   "id": "ea9bd70a",
   "metadata": {},
   "outputs": [
    {
     "name": "stdout",
     "output_type": "stream",
     "text": [
      "<class 'instaloader.structures.Profile'>\n"
     ]
    }
   ],
   "source": [
    "import instaloader\n",
    "\n",
    "# Create an instance of Instaloader class\n",
    "bot = instaloader.Instaloader()\n",
    "\n",
    "# Load a profile from an Instagram handle\n",
    "profile = instaloader.Profile.from_username(bot.context, 'nitesh_290219')\n",
    "\n",
    "print(type(profile))"
   ]
  },
  {
   "cell_type": "code",
   "execution_count": 4,
   "id": "3489fd53",
   "metadata": {},
   "outputs": [
    {
     "name": "stdout",
     "output_type": "stream",
     "text": [
      "Username:  nitesh_290219\n",
      "User ID:  1117479568\n",
      "Number of Posts:  4\n",
      "Followers:  161\n",
      "Followees:  786\n",
      "Bio:  Simple None\n"
     ]
    }
   ],
   "source": [
    "print(\"Username: \", profile.username)\n",
    "print(\"User ID: \", profile.userid)\n",
    "print(\"Number of Posts: \", profile.mediacount)\n",
    "print(\"Followers: \", profile.followers)\n",
    "print(\"Followees: \", profile.followees)\n",
    "print(\"Bio: \", profile.biography,profile.external_url)"
   ]
  },
  {
   "cell_type": "code",
   "execution_count": 7,
   "id": "5c4bb29f",
   "metadata": {},
   "outputs": [
    {
     "name": "stdout",
     "output_type": "stream",
     "text": [
      "Enter Instagram password for niteshkumar8833@gmail.com: ········\n"
     ]
    }
   ],
   "source": [
    "# Login with username and password in the script\n",
    "bot.login(user=\"niteshkumar8833@gmail.com\",passwd=\"Nitesh@008\")\n",
    "\n",
    "# Interactive login on terminal\n",
    "bot.interactive_login(\"niteshkumar8833@gmail.com\") # Asks for password in the terminal"
   ]
  },
  {
   "cell_type": "code",
   "execution_count": 8,
   "id": "7eb1ba8b",
   "metadata": {},
   "outputs": [
    {
     "name": "stdout",
     "output_type": "stream",
     "text": [
      "['arvind_kumar_1958', 'pravin_patil9909', 'zeeshan_khan54326665', 'nitin5inghal', 'erashok09', 'ms.rahulchandel', 'katochswati', '_.memes._.mafia._', 'constellation.reader', 'jainvini07', 'giveandtakeworld', 'mintuprasad60', 'stockmarket1021', 'shivraj7250044107', 'kyogesh448', 'vipulbawali11', 'mritunjaykumar.m', 'vyarunkumar', 'rajraushan342', 'vyanjan_lover', 'krishna.jha.5688', 'sonalisharma6047', 'varrai', 'misspooja118', 'the.wanderer.11', 'everenotofficial', 'kindle_the_roots', 'katie_codes', 'b3ing_curious', 'sourabhsingh4560', 'viking.taurus', 'hacker_wow0', 'iphoneshop00', 'surabhi.mishra.9693', 'rashmikumari903', 'erumeshkotkar', 'singh.shreya33', 'bookwormladki', 'balkishor.singh.1', 'ujval.shankar', 'lovelyboygujju', 'tushar.mehta092', 'vibhu.prakash.121', 'sourabh_hari', 'vaibhavjain1780', 'akshaykhallarkar2', 'specialist_vashikaran_love', 'liza_kubchik', 'pritesh9926', 'nikkysharma8789', 'mukesh02k18', 'hariomgirish', 'supriya_pradhan99', 'shiva._rastogi', 'rahul007ddr', 'vpradeep377', 'salonashah', 'sanjeev_full_circle', 'govindkumar7829', '_urs_agr', 'beenesh.kumar4', 'black_lone_wolf_69', 'brajesh_rishi', 'malusareshital', 'nitisharajpal', 'blinking_rider', 'ranjanrosy', 'vedicmemory', 'piyush.singh.2513', 'hitwicket99', 'confused_electron', 'wanderoramrit', 'sustainably_minimalist_ish', 'nikhilverma1415', 'mayank_kumar_gupta', 'hari8', 'karthikkmx', 'anurag_msra', 'k__rakesh__', 'sushantkeshri32', 'freshers_hub', 'somebodysmeshukla', 'gaurav.nanda.85', 'mjobsolutions.in', 'rajeshkumar1514', 'tyagi.amit9006', 'gajendra163', '_nivi.sha_', 'deep91verma', 'utkarsh2046', 'avvshekmishra', 'anand.5125741', 'erchandankumar', 'isohankumarsingh', 'manojmanoharmaddheshiya', 'amit24.ar', 'mybest_tour', 'shivam_prakash_', 'harshabhishek7322', 'imran.alam0807', 'rohitkinshu', 'nishant.singh.chauhan', 'this_issunny', 'shambhu9810', 'siddharthashaurya', 'kirtiupadhyay29', '_ankit_y', 'd_ujjain', 'ankit.saini93', 'saidajud', 'yashica_creations_preneur', 'hrdial', 'studio361degree', 'gopi_krishna_naidu_arava', 'basuki__nath', 'kumar.manish265', 'deepakkumarsinghofficial', 'clickmeanil', 'vishnu_vy', 'imrakshithrance', 'kumar_vivek021', 'ravikrishna.tripathi', 'ranjan.baba108', 'ua.chhotu', 'dilipgupta194', 'mpsingh_sonu', 'kripashankar90', 'vasu_fidato', 'shubhdeepsingh878', 'imranalam0807', 'ghanshyam.236', 'munna.sagarkr', 'raviadventure', 'chandreshpaswan', 'ashish_ranjan.xav', 'nikitasharma91', 'nikhil_my_can', 'tripurarisingh92', 'adarshvatsa', 'pd.sneha10', 'amit.baliyan.395', 'roshankumarabhay', 'santoshpandey102', 'raviktri', 'erabhishekbhardwaj', 'harsh26abhi', 'amit09.iimt', 'ankitsinghhtt', 'deepuverma91', 'aksingh004', 'nikhilverma111', 'abhaysingh127', 'ervarshney', 'prem__dutt', 'laxmanraghav', 'nxn.sense.sht', 'ravipc204', 'pawanstrings', 'rajivkmr108', 'ig_shivams', '_sumit_kumar_3_']\n"
     ]
    }
   ],
   "source": [
    "# Retrieve the usernames of all followers\n",
    "followers = [follower.username for follower in profile.get_followers()]\n",
    "\n",
    "# Retrieve the usernames of all followees\n",
    "followees = [followee.username for followee in profile.get_followees()]\n",
    "print(followers)"
   ]
  },
  {
   "cell_type": "code",
   "execution_count": null,
   "id": "e3395388",
   "metadata": {},
   "outputs": [
    {
     "name": "stdout",
     "output_type": "stream",
     "text": [
      "rashmika_mandanna_1\\2022-01-22_15-22-57_UTC_1.jpg rashmika_mandanna_1\\2022-01-22_15-22-57_UTC_2.jpg [“Let the beauty of what you l…] json \n",
      "rashmika_mandanna_2\\2022-01-21_13-02-30_UTC.jpg [The fitness game is on the ro…] json \n",
      "rashmika_mandanna_3\\2022-01-17_16-09-47_UTC_1.jpg rashmika_mandanna_3\\2022-01-17_16-09-47_UTC_2.jpg rashmika_mandanna_3\\2022-01-17_16-09-47_UTC_3.jpg [🌿  Outfit - @sonaakshiraaj St…] json \n",
      "rashmika_mandanna_4\\2022-01-15_15-31-21_UTC_1.jpg rashmika_mandanna_4\\2022-01-15_15-31-21_UTC_2.jpg rashmika_mandanna_4\\2022-01-15_15-31-21_UTC_3.jpg [Happy Sankranti everyone! 🥰🌸🤗…] json \n",
      "rashmika_mandanna_5\\2022-01-15_08-33-31_UTC.jpg [Hence proved that I am lil ps…] json \n",
      "rashmika_mandanna_6\\2022-01-12_15-32-04_UTC.jpg [Thank you for all your love f…] json \n",
      "rashmika_mandanna_7\\2022-01-10_12-52-25_UTC_1.jpg rashmika_mandanna_7\\2022-01-10_12-52-25_UTC_2.jpg rashmika_mandanna_7\\2022-01-10_12-52-25_UTC_3.jpg [What do you think of this loo…] json \n",
      "rashmika_mandanna_8\\2022-01-08_12-31-08_UTC.jpg [Super stoked to partner with …] rashmika_mandanna_8\\2022-01-08_12-31-08_UTC.mp4 "
     ]
    }
   ],
   "source": [
    "# Load a new profile\n",
    "profile = instaloader.Profile.from_username(bot.context, 'rashmika_mandanna')\n",
    "\n",
    "# Get all posts in a generator object\n",
    "posts = profile.get_posts()\n",
    "\n",
    "# Iterate and download\n",
    "for index, post in enumerate(posts, 1):\n",
    "    bot.download_post(post, target=f\"{profile.username}_{index}\")"
   ]
  },
  {
   "cell_type": "code",
   "execution_count": null,
   "id": "ffa89679",
   "metadata": {},
   "outputs": [],
   "source": []
  }
 ],
 "metadata": {
  "kernelspec": {
   "display_name": "Python 3",
   "language": "python",
   "name": "python3"
  },
  "language_info": {
   "codemirror_mode": {
    "name": "ipython",
    "version": 3
   },
   "file_extension": ".py",
   "mimetype": "text/x-python",
   "name": "python",
   "nbconvert_exporter": "python",
   "pygments_lexer": "ipython3",
   "version": "3.8.8"
  }
 },
 "nbformat": 4,
 "nbformat_minor": 5
}
